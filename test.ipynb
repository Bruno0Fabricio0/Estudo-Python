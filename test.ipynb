{
 "cells": [
  {
   "attachments": {},
   "cell_type": "markdown",
   "id": "057a378e",
   "metadata": {},
   "source": [
    "#### ✔️ Alguns principios basicos de Python. "
   ]
  },
  {
   "cell_type": "code",
   "execution_count": 1,
   "id": "d0e6e822",
   "metadata": {},
   "outputs": [],
   "source": [
    "nomes = ['Rafael', 'Maria', 'Ana', 'carol', 'Alice', 'Raimunda', 'Eliete']\n",
    "idades = [10,20,30,33,9,70,55]\n",
    "\n",
    "sexo = ('M','F', 'O')\n",
    "\n",
    "cadastro = {'nomes':nomes,\n",
    "'idades': idades,\n",
    "'cidade' : ['A', 'B', 'C']}"
   ]
  },
  {
   "cell_type": "code",
   "execution_count": 2,
   "id": "a1a3cbe6",
   "metadata": {},
   "outputs": [
    {
     "data": {
      "text/plain": [
       "'Raimunda'"
      ]
     },
     "execution_count": 2,
     "metadata": {},
     "output_type": "execute_result"
    }
   ],
   "source": [
    "nomes [5]"
   ]
  },
  {
   "cell_type": "code",
   "execution_count": 3,
   "id": "c51de624",
   "metadata": {},
   "outputs": [
    {
     "data": {
      "text/plain": [
       "70"
      ]
     },
     "execution_count": 3,
     "metadata": {},
     "output_type": "execute_result"
    }
   ],
   "source": [
    "idades[5]"
   ]
  },
  {
   "cell_type": "code",
   "execution_count": 4,
   "id": "4cae0f7d",
   "metadata": {},
   "outputs": [
    {
     "data": {
      "text/plain": [
       "'F'"
      ]
     },
     "execution_count": 4,
     "metadata": {},
     "output_type": "execute_result"
    }
   ],
   "source": [
    "sexo [1]"
   ]
  },
  {
   "cell_type": "code",
   "execution_count": 5,
   "id": "2c865f24",
   "metadata": {},
   "outputs": [
    {
     "data": {
      "text/plain": [
       "'Raimunda'"
      ]
     },
     "execution_count": 5,
     "metadata": {},
     "output_type": "execute_result"
    }
   ],
   "source": [
    "cadastro['nomes'] [5]"
   ]
  },
  {
   "cell_type": "code",
   "execution_count": 6,
   "id": "3b27d0ab",
   "metadata": {},
   "outputs": [],
   "source": [
    "nomes = ['Rafael', 'Maria', 'Ana', 'carol', 'Alice', 'Raimunda', 'Eliete']\n",
    "idades = [10,20,30,33,9,70,55]\n",
    "\n",
    "sexo = ('M','F', 'O')\n",
    "\n",
    "cadastro = {'nomes':nomes,\n",
    "'idades': idades,\n",
    "'cidade' : ['A', 'B', 'C']}"
   ]
  },
  {
   "cell_type": "code",
   "execution_count": 7,
   "id": "5e1889e0",
   "metadata": {},
   "outputs": [
    {
     "name": "stdout",
     "output_type": "stream",
     "text": [
      "Rafael\n",
      "Maria\n",
      "Ana\n",
      "carol\n",
      "Alice\n",
      "Raimunda\n",
      "Eliete\n"
     ]
    }
   ],
   "source": [
    "for nome in nomes:\n",
    "    print(nome)"
   ]
  },
  {
   "cell_type": "code",
   "execution_count": 8,
   "id": "9d45da64",
   "metadata": {},
   "outputs": [
    {
     "name": "stdout",
     "output_type": "stream",
     "text": [
      "10\n",
      "20\n",
      "30\n",
      "70\n"
     ]
    }
   ],
   "source": [
    "for idade in idades:\n",
    "    if idade%2==0:    print(idade)"
   ]
  },
  {
   "cell_type": "code",
   "execution_count": 9,
   "id": "0258835d",
   "metadata": {},
   "outputs": [
    {
     "name": "stdout",
     "output_type": "stream",
     "text": [
      "0\n",
      "1\n",
      "2\n",
      "3\n",
      "4\n"
     ]
    }
   ],
   "source": [
    "for i in range(0,5):\n",
    "    print(i)"
   ]
  },
  {
   "cell_type": "code",
   "execution_count": 10,
   "id": "f753a300",
   "metadata": {},
   "outputs": [
    {
     "data": {
      "text/plain": [
       "2550"
      ]
     },
     "execution_count": 10,
     "metadata": {},
     "output_type": "execute_result"
    }
   ],
   "source": [
    "soma = 0 \n",
    "for i in range(0,101):\n",
    "    if i%2==0:\n",
    "        soma += i\n",
    "\n",
    "soma\n",
    "    "
   ]
  },
  {
   "cell_type": "code",
   "execution_count": 11,
   "id": "066f274d",
   "metadata": {},
   "outputs": [
    {
     "data": {
      "text/plain": [
       "2550"
      ]
     },
     "execution_count": 11,
     "metadata": {},
     "output_type": "execute_result"
    }
   ],
   "source": [
    "sum([i if i%2==0 else 0 for i in range(0,101)])"
   ]
  },
  {
   "cell_type": "code",
   "execution_count": 12,
   "id": "f482f750",
   "metadata": {},
   "outputs": [
    {
     "data": {
      "text/plain": [
       "[0, 2, 2, 6, 4, 10, 6, 14, 8, 18]"
      ]
     },
     "execution_count": 12,
     "metadata": {},
     "output_type": "execute_result"
    }
   ],
   "source": [
    "[i if i%2==0 else (2*i**1) for i in range(0,10)]"
   ]
  },
  {
   "cell_type": "code",
   "execution_count": null,
   "id": "108c963f",
   "metadata": {},
   "outputs": [],
   "source": []
  }
 ],
 "metadata": {
  "kernelspec": {
   "display_name": "Python 3",
   "language": "python",
   "name": "python3"
  },
  "language_info": {
   "codemirror_mode": {
    "name": "ipython",
    "version": 3
   },
   "file_extension": ".py",
   "mimetype": "text/x-python",
   "name": "python",
   "nbconvert_exporter": "python",
   "pygments_lexer": "ipython3",
   "version": "3.11.3"
  },
  "vscode": {
   "interpreter": {
    "hash": "767d51c1340bd893661ea55ea3124f6de3c7a262a8b4abca0554b478b1e2ff90"
   }
  }
 },
 "nbformat": 4,
 "nbformat_minor": 5
}
