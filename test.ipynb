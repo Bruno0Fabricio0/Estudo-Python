{
 "cells": [
  {
   "cell_type": "code",
   "execution_count": 9,
   "id": "d0e6e822",
   "metadata": {},
   "outputs": [],
   "source": [
    "nomes = ['Rafael', 'Maria', 'Ana']\n",
    "idades = [10,20,30]\n",
    "\n",
    "sexo = ('M','F', 'O')\n",
    "\n",
    "cadastro = {'nomes':nomes,\n",
    "'idades': idades,\n",
    "'cidade' : ['A', 'B', 'C']}"
   ]
  },
  {
   "cell_type": "code",
   "execution_count": 10,
   "id": "a6fc8172",
   "metadata": {},
   "outputs": [
    {
     "data": {
      "text/plain": [
       "'Maria'"
      ]
     },
     "execution_count": 10,
     "metadata": {},
     "output_type": "execute_result"
    }
   ],
   "source": [
    "nomes[1]"
   ]
  },
  {
   "cell_type": "code",
   "execution_count": 11,
   "id": "6a717778",
   "metadata": {},
   "outputs": [
    {
     "data": {
      "text/plain": [
       "10"
      ]
     },
     "execution_count": 11,
     "metadata": {},
     "output_type": "execute_result"
    }
   ],
   "source": [
    "idades[0]"
   ]
  },
  {
   "cell_type": "code",
   "execution_count": 12,
   "id": "c9af46ad",
   "metadata": {},
   "outputs": [
    {
     "data": {
      "text/plain": [
       "'O'"
      ]
     },
     "execution_count": 12,
     "metadata": {},
     "output_type": "execute_result"
    }
   ],
   "source": [
    "sexo[2]"
   ]
  },
  {
   "cell_type": "code",
   "execution_count": null,
   "id": "c00d3002",
   "metadata": {},
   "outputs": [],
   "source": []
  },
  {
   "cell_type": "code",
   "execution_count": null,
   "id": "6c071e6e",
   "metadata": {},
   "outputs": [],
   "source": []
  }
 ],
 "metadata": {
  "kernelspec": {
   "display_name": "Python 3",
   "language": "python",
   "name": "python3"
  },
  "language_info": {
   "codemirror_mode": {
    "name": "ipython",
    "version": 3
   },
   "file_extension": ".py",
   "mimetype": "text/x-python",
   "name": "python",
   "nbconvert_exporter": "python",
   "pygments_lexer": "ipython3",
   "version": "3.10.6"
  },
  "vscode": {
   "interpreter": {
    "hash": "916dbcbb3f70747c44a77c7bcd40155683ae19c65e1c03b4aa3499c5328201f1"
   }
  }
 },
 "nbformat": 4,
 "nbformat_minor": 5
}
