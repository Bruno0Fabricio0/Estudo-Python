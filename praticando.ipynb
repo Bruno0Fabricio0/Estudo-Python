{
 "cells": [
  {
   "cell_type": "code",
   "execution_count": 1,
   "metadata": {},
   "outputs": [],
   "source": [
    "import pandas as pd\n",
    "import matplotlib as mpl\n",
    "import numpy as np\n"
   ]
  },
  {
   "attachments": {},
   "cell_type": "markdown",
   "metadata": {},
   "source": [
    "Mostrando duas tabelas para manupulação "
   ]
  },
  {
   "cell_type": "code",
   "execution_count": 2,
   "metadata": {},
   "outputs": [],
   "source": [
    "dfcaso_estudo = pd.read_excel('caso_estudo.xlsx')\n",
    "dfleitura = pd.read_excel('leitura.xlsx')"
   ]
  },
  {
   "cell_type": "code",
   "execution_count": 4,
   "metadata": {},
   "outputs": [
    {
     "name": "stdout",
     "output_type": "stream",
     "text": [
      "   id               nome sexo  idade\n",
      "0   1      Lavinia Sousa    F     18\n",
      "1   2       Caio Pereira    M     28\n",
      "2   3      Júlio Azevedo    M     32\n",
      "3   4    Sarah Goncalves    F     49\n",
      "4   5  Gabrielle Martins    F     27\n"
     ]
    }
   ],
   "source": [
    "print(dfcaso_estudo.head())"
   ]
  },
  {
   "cell_type": "code",
   "execution_count": 8,
   "metadata": {},
   "outputs": [
    {
     "name": "stdout",
     "output_type": "stream",
     "text": [
      "   tempo periodo  umidade  temperatura  risco_acidente\n",
      "0      1   manhã     0.40           50               1\n",
      "1      2   manhã     0.40           50               1\n",
      "2      3   manhã     0.40           49               1\n",
      "3      4   manhã     0.40           49               1\n",
      "4      5   manhã     0.41           48               1\n"
     ]
    }
   ],
   "source": [
    "print(dfleitura.head())"
   ]
  }
 ],
 "metadata": {
  "kernelspec": {
   "display_name": "base",
   "language": "python",
   "name": "python3"
  },
  "language_info": {
   "codemirror_mode": {
    "name": "ipython",
    "version": 3
   },
   "file_extension": ".py",
   "mimetype": "text/x-python",
   "name": "python",
   "nbconvert_exporter": "python",
   "pygments_lexer": "ipython3",
   "version": "3.10.9"
  },
  "orig_nbformat": 4
 },
 "nbformat": 4,
 "nbformat_minor": 2
}
